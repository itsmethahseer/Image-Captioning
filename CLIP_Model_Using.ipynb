{
 "cells": [
  {
   "cell_type": "markdown",
   "id": "0dd62bc9",
   "metadata": {},
   "source": [
    "# Improving Image Captioning Accuracy using Pretrained Model CLIP"
   ]
  },
  {
   "cell_type": "code",
   "execution_count": 1,
   "id": "82cb9a06",
   "metadata": {},
   "outputs": [
    {
     "name": "stdout",
     "output_type": "stream",
     "text": [
      "Defaulting to user installation because normal site-packages is not writeable\n",
      "Requirement already satisfied: transformers in c:\\programdata\\anaconda3\\lib\\site-packages (4.24.0)\n",
      "Requirement already satisfied: tokenizers!=0.11.3,<0.14,>=0.11.1 in c:\\programdata\\anaconda3\\lib\\site-packages (from transformers) (0.11.4)\n",
      "Requirement already satisfied: requests in c:\\users\\user\\appdata\\roaming\\python\\python310\\site-packages (from transformers) (2.31.0)\n",
      "Requirement already satisfied: huggingface-hub<1.0,>=0.10.0 in c:\\programdata\\anaconda3\\lib\\site-packages (from transformers) (0.10.1)\n",
      "Requirement already satisfied: tqdm>=4.27 in c:\\programdata\\anaconda3\\lib\\site-packages (from transformers) (4.64.1)\n",
      "Requirement already satisfied: filelock in c:\\programdata\\anaconda3\\lib\\site-packages (from transformers) (3.9.0)\n",
      "Requirement already satisfied: pyyaml>=5.1 in c:\\programdata\\anaconda3\\lib\\site-packages (from transformers) (6.0)\n",
      "Requirement already satisfied: packaging>=20.0 in c:\\programdata\\anaconda3\\lib\\site-packages (from transformers) (22.0)\n",
      "Requirement already satisfied: regex!=2019.12.17 in c:\\programdata\\anaconda3\\lib\\site-packages (from transformers) (2022.7.9)\n",
      "Requirement already satisfied: numpy>=1.17 in c:\\users\\user\\appdata\\roaming\\python\\python310\\site-packages (from transformers) (1.23.5)\n",
      "Requirement already satisfied: typing-extensions>=3.7.4.3 in c:\\programdata\\anaconda3\\lib\\site-packages (from huggingface-hub<1.0,>=0.10.0->transformers) (4.4.0)\n",
      "Requirement already satisfied: colorama in c:\\programdata\\anaconda3\\lib\\site-packages (from tqdm>=4.27->transformers) (0.4.6)\n",
      "Requirement already satisfied: charset-normalizer<4,>=2 in c:\\programdata\\anaconda3\\lib\\site-packages (from requests->transformers) (2.0.4)\n",
      "Requirement already satisfied: certifi>=2017.4.17 in c:\\programdata\\anaconda3\\lib\\site-packages (from requests->transformers) (2022.12.7)\n",
      "Requirement already satisfied: idna<4,>=2.5 in c:\\programdata\\anaconda3\\lib\\site-packages (from requests->transformers) (3.4)\n",
      "Requirement already satisfied: urllib3<3,>=1.21.1 in c:\\programdata\\anaconda3\\lib\\site-packages (from requests->transformers) (1.26.14)\n",
      "Note: you may need to restart the kernel to use updated packages.\n"
     ]
    }
   ],
   "source": [
    "pip install transformers\n"
   ]
  },
  {
   "cell_type": "code",
   "execution_count": 2,
   "id": "e6f1384a",
   "metadata": {},
   "outputs": [
    {
     "data": {
      "application/vnd.jupyter.widget-view+json": {
       "model_id": "c8959ee1830045f3badc99665af95258",
       "version_major": 2,
       "version_minor": 0
      },
      "text/plain": [
       "Downloading:   0%|          | 0.00/316 [00:00<?, ?B/s]"
      ]
     },
     "metadata": {},
     "output_type": "display_data"
    },
    {
     "name": "stderr",
     "output_type": "stream",
     "text": [
      "C:\\ProgramData\\anaconda3\\lib\\site-packages\\huggingface_hub\\file_download.py:123: UserWarning: `huggingface_hub` cache-system uses symlinks by default to efficiently store duplicated files but your machine does not support them in C:\\Users\\user\\.cache\\huggingface\\hub. Caching files will still work but in a degraded version that might require more space on your disk. This warning can be disabled by setting the `HF_HUB_DISABLE_SYMLINKS_WARNING` environment variable. For more details, see https://huggingface.co/docs/huggingface_hub/how-to-cache#limitations.\n",
      "To support symlinks on Windows, you either need to activate Developer Mode or to run Python as an administrator. In order to see activate developer mode, see this article: https://docs.microsoft.com/en-us/windows/apps/get-started/enable-your-device-for-development\n",
      "  warnings.warn(message)\n"
     ]
    },
    {
     "data": {
      "application/vnd.jupyter.widget-view+json": {
       "model_id": "b63be293bb3747d68c7b60b0d3dcb46e",
       "version_major": 2,
       "version_minor": 0
      },
      "text/plain": [
       "Downloading:   0%|          | 0.00/905 [00:00<?, ?B/s]"
      ]
     },
     "metadata": {},
     "output_type": "display_data"
    },
    {
     "data": {
      "application/vnd.jupyter.widget-view+json": {
       "model_id": "c0b0aaa372b84eb6964606013edbe2b1",
       "version_major": 2,
       "version_minor": 0
      },
      "text/plain": [
       "Downloading:   0%|          | 0.00/961k [00:00<?, ?B/s]"
      ]
     },
     "metadata": {},
     "output_type": "display_data"
    },
    {
     "data": {
      "application/vnd.jupyter.widget-view+json": {
       "model_id": "1c62205c9b6e428ab8261816106da519",
       "version_major": 2,
       "version_minor": 0
      },
      "text/plain": [
       "Downloading:   0%|          | 0.00/525k [00:00<?, ?B/s]"
      ]
     },
     "metadata": {},
     "output_type": "display_data"
    },
    {
     "data": {
      "application/vnd.jupyter.widget-view+json": {
       "model_id": "62854264759b490e97a44316315e18fb",
       "version_major": 2,
       "version_minor": 0
      },
      "text/plain": [
       "Downloading:   0%|          | 0.00/2.22M [00:00<?, ?B/s]"
      ]
     },
     "metadata": {},
     "output_type": "display_data"
    },
    {
     "data": {
      "application/vnd.jupyter.widget-view+json": {
       "model_id": "2a55290ad53c4af292200ebc81e7658a",
       "version_major": 2,
       "version_minor": 0
      },
      "text/plain": [
       "Downloading:   0%|          | 0.00/389 [00:00<?, ?B/s]"
      ]
     },
     "metadata": {},
     "output_type": "display_data"
    },
    {
     "data": {
      "application/vnd.jupyter.widget-view+json": {
       "model_id": "38245f5b0c904c549ae47b14b61717ed",
       "version_major": 2,
       "version_minor": 0
      },
      "text/plain": [
       "Downloading:   0%|          | 0.00/4.10k [00:00<?, ?B/s]"
      ]
     },
     "metadata": {},
     "output_type": "display_data"
    },
    {
     "data": {
      "application/vnd.jupyter.widget-view+json": {
       "model_id": "86672a691f4142c0922287462a77cf19",
       "version_major": 2,
       "version_minor": 0
      },
      "text/plain": [
       "Downloading:   0%|          | 0.00/599M [00:00<?, ?B/s]"
      ]
     },
     "metadata": {},
     "output_type": "display_data"
    }
   ],
   "source": [
    "from transformers import CLIPProcessor, CLIPModel\n",
    "\n",
    "model_name = \"openai/clip-vit-base-patch16\"  # You can choose other CLIP models too\n",
    "processor = CLIPProcessor.from_pretrained(model_name)\n",
    "model = CLIPModel.from_pretrained(model_name)"
   ]
  },
  {
   "cell_type": "code",
   "execution_count": 6,
   "id": "b9491b16",
   "metadata": {},
   "outputs": [],
   "source": [
    "from PIL import Image\n",
    "image_path = \"images/data-scientist-1.jpeg\"\n",
    "image_path = Image.open(image_path)\n",
    "text = \"A data scientist is looking towards to Visulaization board in a company\"\n",
    "\n",
    "inputs = processor(text=text, images=image_path, return_tensors=\"pt\", padding=True)\n",
    "outputs = model(**inputs)"
   ]
  },
  {
   "cell_type": "code",
   "execution_count": 16,
   "id": "0aed710e",
   "metadata": {},
   "outputs": [
    {
     "name": "stdout",
     "output_type": "stream",
     "text": [
      "odict_keys(['logits_per_image', 'logits_per_text', 'text_embeds', 'image_embeds', 'text_model_output', 'vision_model_output'])\n"
     ]
    }
   ],
   "source": [
    "print(outputs.keys())"
   ]
  },
  {
   "cell_type": "code",
   "execution_count": 17,
   "id": "5586cb4c",
   "metadata": {},
   "outputs": [],
   "source": [
    "image_embedding = outputs[\"text_embeds\"]\n",
    "text_embedding = outputs['text_embeds']\n",
    "# image_embedding_np = image_embedding.detach().numpy()\n",
    "# text_embedding_np = text_embedding.detach().numpy()"
   ]
  },
  {
   "cell_type": "code",
   "execution_count": 18,
   "id": "f43ea3b9",
   "metadata": {},
   "outputs": [
    {
     "name": "stdout",
     "output_type": "stream",
     "text": [
      "tensor([[ 2.8808e-03, -5.4355e-02, -1.1456e-02,  1.2439e-02, -2.0841e-02,\n",
      "          1.1727e-02, -4.2354e-02,  8.0037e-03, -1.2546e-02, -2.4902e-02,\n",
      "         -2.7000e-02, -1.1978e-02,  1.9395e-02, -5.3718e-03, -1.6990e-02,\n",
      "         -1.6743e-03,  9.2822e-03, -3.9505e-04, -2.6758e-02,  8.0138e-04,\n",
      "          1.4842e-02,  8.0056e-03,  1.1745e-02, -3.3591e-02,  1.3171e-03,\n",
      "          9.2656e-03,  1.7542e-02, -2.8801e-02, -4.1172e-03,  2.9381e-02,\n",
      "         -1.2458e-02,  1.8378e-02,  1.8761e-02, -1.9502e-02, -6.4000e-03,\n",
      "          1.4860e-02, -2.1037e-02,  3.8411e-02,  3.5152e-02, -1.6479e-02,\n",
      "         -1.6137e-02, -1.4637e-02, -4.0118e-02,  1.8188e-02,  1.2651e-02,\n",
      "         -5.0175e-02,  2.2664e-02,  7.0050e-03,  1.0740e-02,  2.5480e-02,\n",
      "          2.2037e-02,  3.9671e-02,  7.2751e-03, -1.4325e-02,  1.2858e-02,\n",
      "         -1.3132e-03, -1.9306e-02, -1.1449e-02,  5.5758e-04,  1.5254e-02,\n",
      "          2.1818e-02, -1.5189e-02,  4.5749e-02,  1.5443e-02, -1.0145e-02,\n",
      "         -3.8033e-03, -7.4452e-03,  1.6596e-02,  3.2353e-02, -4.0651e-02,\n",
      "         -2.2250e-02,  1.6609e-02, -9.5566e-03, -3.1144e-02,  9.0361e-03,\n",
      "          3.1689e-02,  1.7231e-02,  1.1950e-02, -4.4084e-02,  3.8924e-02,\n",
      "          8.6839e-03,  3.1600e-02,  8.3575e-03, -1.1914e-02, -3.6575e-03,\n",
      "         -1.7030e-02, -5.3501e-03,  3.6694e-03,  2.1282e-03, -1.1463e-02,\n",
      "          8.2160e-03, -3.3053e-03, -2.6088e-02,  4.7250e-02,  6.5032e-03,\n",
      "         -4.4283e-03, -1.4150e-01,  4.9843e-02,  4.2639e-02, -9.2161e-03,\n",
      "          1.6496e-02,  2.1520e-02,  7.5549e-03, -2.1235e-02, -3.4844e-02,\n",
      "          1.9973e-03,  1.9963e-02,  1.3016e-02,  1.6013e-02,  7.1095e-03,\n",
      "          1.5352e-02, -6.9834e-03, -8.1610e-03,  1.8864e-03, -4.2786e-03,\n",
      "          9.0564e-03,  8.2556e-03,  1.3327e-02,  2.9906e-02, -3.5917e-02,\n",
      "          2.4670e-02,  4.7137e-02,  2.3105e-02, -3.9833e-03,  6.1422e-03,\n",
      "          8.0123e-03,  4.4647e-02,  1.0337e-02, -1.2376e-02,  5.0678e-02,\n",
      "         -3.2240e-02, -2.8909e-03,  1.8256e-02, -7.2034e-03, -1.4123e-02,\n",
      "          1.1280e-02, -5.6405e-03,  2.8650e-02, -5.2780e-03,  1.0184e-02,\n",
      "         -2.6054e-02,  1.4768e-02,  3.0080e-02, -1.2378e-02, -2.6524e-02,\n",
      "         -6.7305e-03,  1.7625e-02, -4.7519e-02,  6.9501e-02,  2.6958e-02,\n",
      "          2.3030e-02,  2.4026e-02, -2.2388e-02,  7.7275e-03, -1.4176e-02,\n",
      "          1.8740e-02, -1.8220e-02, -7.9682e-03, -1.7012e-02,  1.7798e-03,\n",
      "          6.4938e-03,  3.1942e-02, -2.2076e-02,  3.0524e-02,  1.0014e-02,\n",
      "          8.2996e-03,  8.1599e-03, -1.0137e-01,  2.3523e-02, -1.4925e-02,\n",
      "          5.4699e-02, -5.7658e-03, -5.6008e-03, -1.7282e-02,  2.9831e-03,\n",
      "          2.6853e-02, -2.0884e-02, -3.3740e-03,  3.4677e-02,  2.7592e-02,\n",
      "          1.1961e-02, -2.8550e-02,  2.0611e-02, -1.3314e-02, -2.2474e-02,\n",
      "         -1.6559e-02,  1.0409e-02, -3.4073e-02,  4.7513e-02,  1.1503e-02,\n",
      "         -2.5044e-02,  1.2075e-02, -9.0815e-03,  2.3467e-02,  1.3000e-02,\n",
      "         -4.6713e-03,  1.6303e-03, -1.8289e-02,  2.6965e-02, -9.4874e-03,\n",
      "          8.0143e-03,  3.4511e-02,  2.7660e-03, -1.8038e-03,  1.4725e-02,\n",
      "         -2.3497e-03, -1.1865e-02,  3.0282e-04, -3.3754e-04, -1.8450e-02,\n",
      "         -3.3259e-03,  2.3740e-02, -4.0709e-02,  2.4874e-05, -8.4211e-03,\n",
      "         -3.1667e-04,  4.4501e-02, -1.2241e-02, -9.4550e-03,  3.2387e-02,\n",
      "          8.0064e-03,  2.4557e-02,  7.0907e-03, -1.7947e-02, -4.0328e-02,\n",
      "          7.5869e-03, -1.3794e-03,  2.0092e-02, -7.3710e-03,  9.8854e-03,\n",
      "          6.2020e-03, -1.7268e-02,  6.8611e-03,  3.0047e-03, -8.3222e-04,\n",
      "         -2.2968e-02, -6.8240e-03,  7.1957e-03, -1.6183e-02,  4.8197e-02,\n",
      "          1.1067e-01, -1.0468e-03,  3.4770e-02,  3.0625e-03, -4.2172e-02,\n",
      "         -1.5572e-02, -2.2095e-02, -2.3419e-02,  2.4556e-02, -2.5369e-02,\n",
      "          9.7150e-03, -9.1264e-03, -1.6709e-02, -2.3673e-02, -3.3423e-02,\n",
      "          5.0387e-02, -2.4523e-02, -3.1480e-02,  3.9329e-02, -1.4622e-02,\n",
      "         -2.9131e-02, -1.2145e-02,  3.3669e-02, -1.3260e-02, -1.5515e-02,\n",
      "         -1.9110e-02,  1.8636e-02,  1.6256e-02,  1.7225e-03,  2.0666e-02,\n",
      "          9.6417e-04,  2.2979e-02,  5.8229e-03, -1.5756e-02,  5.6823e-03,\n",
      "         -1.9373e-02,  1.5257e-02, -1.9730e-02,  1.4683e-02,  8.8164e-04,\n",
      "         -9.5831e-03,  3.6511e-03, -1.1660e-02,  6.1992e-02,  2.2796e-02,\n",
      "         -1.6285e-02, -1.5714e-02,  2.3768e-02, -3.9135e-03, -5.8296e-03,\n",
      "         -2.0948e-02,  2.0685e-02, -1.2948e-02,  2.6440e-03,  1.3491e-02,\n",
      "          1.6261e-03, -1.8085e-02,  6.6917e-03, -1.4961e-02,  5.2745e-02,\n",
      "          2.8704e-04,  1.2748e-02, -2.7018e-02,  1.1985e-02,  3.9573e-02,\n",
      "         -7.9241e-03,  4.3836e-04, -1.6038e-02, -1.4631e-02,  2.8403e-02,\n",
      "          3.6042e-03, -1.1799e-02,  3.3965e-02, -1.3251e-03,  5.4669e-03,\n",
      "          2.7850e-02, -4.8337e-03, -3.3918e-02,  3.5579e-02, -1.6659e-02,\n",
      "          6.0312e-03,  6.7167e-03,  1.3048e-02,  1.4759e-03, -2.3685e-02,\n",
      "          4.1849e-03,  8.0438e-03,  1.1732e-02, -2.3927e-02,  7.6620e-03,\n",
      "          1.5875e-02,  5.3379e-02, -3.1234e-03, -2.0554e-02,  2.1666e-02,\n",
      "          2.7088e-02,  2.3989e-02, -4.6187e-03,  1.0283e-02, -7.3151e-03,\n",
      "          9.5871e-03,  3.2241e-04, -7.8204e-03,  1.2876e-02, -9.9567e-03,\n",
      "         -6.8426e-03,  1.4565e-02, -3.3296e-02, -1.1527e-02,  2.5258e-02,\n",
      "         -6.7153e-03,  4.0988e-02, -1.8495e-02, -1.4519e-03,  7.1521e-03,\n",
      "         -6.9562e-03,  1.6514e-02,  1.9215e-02,  2.7078e-03,  1.8564e-02,\n",
      "          2.0059e-02,  1.0357e-02,  8.3746e-01,  1.7859e-02,  1.6205e-02,\n",
      "          6.2122e-03,  1.5454e-02,  4.7264e-03,  2.8170e-03,  2.8571e-02,\n",
      "         -1.7519e-02,  1.9444e-03,  3.9055e-02,  3.3213e-02,  1.4218e-02,\n",
      "         -1.9139e-04, -7.5280e-03, -1.5331e-02, -1.2776e-02, -5.7931e-02,\n",
      "         -4.5510e-02, -3.6049e-02,  5.5922e-03, -4.2403e-02, -1.2516e-02,\n",
      "          3.2238e-02,  9.5289e-03,  4.8691e-02, -1.8092e-02, -2.2616e-02,\n",
      "         -3.6800e-02,  3.1058e-02,  4.5579e-03, -1.3579e-03, -2.2933e-02,\n",
      "         -1.7162e-03,  1.5610e-03, -1.4997e-02, -3.8080e-02,  3.6533e-03,\n",
      "         -8.8270e-03, -2.0245e-02,  1.0879e-02, -1.5252e-02,  4.2000e-03,\n",
      "          6.1507e-03,  1.2196e-02,  1.2107e-02, -1.3707e-02, -3.9585e-03,\n",
      "         -1.3973e-02,  2.0879e-02, -3.4534e-02,  2.2570e-02,  3.5415e-02,\n",
      "         -1.3614e-03, -1.0059e-02,  1.8967e-02, -1.8270e-02,  2.2308e-02,\n",
      "         -1.7725e-02,  9.6769e-03,  1.3463e-02,  1.5884e-02, -4.7187e-03,\n",
      "         -2.3280e-02,  2.5155e-02,  2.2132e-02, -1.0724e-02,  1.5647e-02,\n",
      "         -1.0359e-02,  1.3318e-03,  4.3688e-02,  5.5415e-03, -4.0521e-03,\n",
      "          2.4795e-02, -8.1099e-03,  4.1610e-02,  4.4543e-03,  8.5612e-03,\n",
      "          1.5681e-02, -2.5289e-03,  1.7378e-01, -9.4852e-03,  6.5114e-03,\n",
      "          1.8732e-02,  1.1490e-02, -6.3170e-03,  1.9889e-02,  1.6524e-02,\n",
      "         -2.8090e-02,  4.1290e-03,  1.8582e-02, -7.5772e-04,  1.6989e-03,\n",
      "          8.6211e-03,  2.2724e-02, -3.7455e-02,  4.1166e-03,  1.3329e-03,\n",
      "          4.0440e-02,  2.7992e-02, -1.4836e-02, -2.8763e-02,  1.8583e-03,\n",
      "         -2.3668e-02, -1.8751e-03, -1.7776e-02, -6.6554e-03,  1.7928e-02,\n",
      "         -2.7223e-03, -1.0975e-02, -7.2066e-03,  1.9558e-02,  1.7234e-02,\n",
      "          3.1313e-02, -1.9932e-02,  8.8840e-03,  2.3639e-02, -2.3826e-02,\n",
      "          6.0691e-03,  1.5963e-02, -8.4558e-03, -1.3874e-03,  1.8025e-02,\n",
      "          5.4656e-03,  1.3942e-02, -1.5286e-02,  3.0218e-02, -2.1733e-02,\n",
      "          3.3510e-02,  4.6309e-02, -1.3796e-02,  1.2517e-02, -2.7659e-02,\n",
      "         -1.5005e-02, -2.4772e-03, -9.4626e-03,  1.0941e-02,  3.3017e-03,\n",
      "         -3.2029e-02,  1.4156e-02,  1.7746e-02,  2.4916e-03,  2.1698e-02,\n",
      "          5.1726e-03,  7.2195e-03,  1.2526e-02,  8.5281e-03, -5.5046e-03,\n",
      "          3.7066e-03,  3.4063e-02]], grad_fn=<DivBackward0>)\n",
      "tensor([[ 2.8808e-03, -5.4355e-02, -1.1456e-02,  1.2439e-02, -2.0841e-02,\n",
      "          1.1727e-02, -4.2354e-02,  8.0037e-03, -1.2546e-02, -2.4902e-02,\n",
      "         -2.7000e-02, -1.1978e-02,  1.9395e-02, -5.3718e-03, -1.6990e-02,\n",
      "         -1.6743e-03,  9.2822e-03, -3.9505e-04, -2.6758e-02,  8.0138e-04,\n",
      "          1.4842e-02,  8.0056e-03,  1.1745e-02, -3.3591e-02,  1.3171e-03,\n",
      "          9.2656e-03,  1.7542e-02, -2.8801e-02, -4.1172e-03,  2.9381e-02,\n",
      "         -1.2458e-02,  1.8378e-02,  1.8761e-02, -1.9502e-02, -6.4000e-03,\n",
      "          1.4860e-02, -2.1037e-02,  3.8411e-02,  3.5152e-02, -1.6479e-02,\n",
      "         -1.6137e-02, -1.4637e-02, -4.0118e-02,  1.8188e-02,  1.2651e-02,\n",
      "         -5.0175e-02,  2.2664e-02,  7.0050e-03,  1.0740e-02,  2.5480e-02,\n",
      "          2.2037e-02,  3.9671e-02,  7.2751e-03, -1.4325e-02,  1.2858e-02,\n",
      "         -1.3132e-03, -1.9306e-02, -1.1449e-02,  5.5758e-04,  1.5254e-02,\n",
      "          2.1818e-02, -1.5189e-02,  4.5749e-02,  1.5443e-02, -1.0145e-02,\n",
      "         -3.8033e-03, -7.4452e-03,  1.6596e-02,  3.2353e-02, -4.0651e-02,\n",
      "         -2.2250e-02,  1.6609e-02, -9.5566e-03, -3.1144e-02,  9.0361e-03,\n",
      "          3.1689e-02,  1.7231e-02,  1.1950e-02, -4.4084e-02,  3.8924e-02,\n",
      "          8.6839e-03,  3.1600e-02,  8.3575e-03, -1.1914e-02, -3.6575e-03,\n",
      "         -1.7030e-02, -5.3501e-03,  3.6694e-03,  2.1282e-03, -1.1463e-02,\n",
      "          8.2160e-03, -3.3053e-03, -2.6088e-02,  4.7250e-02,  6.5032e-03,\n",
      "         -4.4283e-03, -1.4150e-01,  4.9843e-02,  4.2639e-02, -9.2161e-03,\n",
      "          1.6496e-02,  2.1520e-02,  7.5549e-03, -2.1235e-02, -3.4844e-02,\n",
      "          1.9973e-03,  1.9963e-02,  1.3016e-02,  1.6013e-02,  7.1095e-03,\n",
      "          1.5352e-02, -6.9834e-03, -8.1610e-03,  1.8864e-03, -4.2786e-03,\n",
      "          9.0564e-03,  8.2556e-03,  1.3327e-02,  2.9906e-02, -3.5917e-02,\n",
      "          2.4670e-02,  4.7137e-02,  2.3105e-02, -3.9833e-03,  6.1422e-03,\n",
      "          8.0123e-03,  4.4647e-02,  1.0337e-02, -1.2376e-02,  5.0678e-02,\n",
      "         -3.2240e-02, -2.8909e-03,  1.8256e-02, -7.2034e-03, -1.4123e-02,\n",
      "          1.1280e-02, -5.6405e-03,  2.8650e-02, -5.2780e-03,  1.0184e-02,\n",
      "         -2.6054e-02,  1.4768e-02,  3.0080e-02, -1.2378e-02, -2.6524e-02,\n",
      "         -6.7305e-03,  1.7625e-02, -4.7519e-02,  6.9501e-02,  2.6958e-02,\n",
      "          2.3030e-02,  2.4026e-02, -2.2388e-02,  7.7275e-03, -1.4176e-02,\n",
      "          1.8740e-02, -1.8220e-02, -7.9682e-03, -1.7012e-02,  1.7798e-03,\n",
      "          6.4938e-03,  3.1942e-02, -2.2076e-02,  3.0524e-02,  1.0014e-02,\n",
      "          8.2996e-03,  8.1599e-03, -1.0137e-01,  2.3523e-02, -1.4925e-02,\n",
      "          5.4699e-02, -5.7658e-03, -5.6008e-03, -1.7282e-02,  2.9831e-03,\n",
      "          2.6853e-02, -2.0884e-02, -3.3740e-03,  3.4677e-02,  2.7592e-02,\n",
      "          1.1961e-02, -2.8550e-02,  2.0611e-02, -1.3314e-02, -2.2474e-02,\n",
      "         -1.6559e-02,  1.0409e-02, -3.4073e-02,  4.7513e-02,  1.1503e-02,\n",
      "         -2.5044e-02,  1.2075e-02, -9.0815e-03,  2.3467e-02,  1.3000e-02,\n",
      "         -4.6713e-03,  1.6303e-03, -1.8289e-02,  2.6965e-02, -9.4874e-03,\n",
      "          8.0143e-03,  3.4511e-02,  2.7660e-03, -1.8038e-03,  1.4725e-02,\n",
      "         -2.3497e-03, -1.1865e-02,  3.0282e-04, -3.3754e-04, -1.8450e-02,\n",
      "         -3.3259e-03,  2.3740e-02, -4.0709e-02,  2.4874e-05, -8.4211e-03,\n",
      "         -3.1667e-04,  4.4501e-02, -1.2241e-02, -9.4550e-03,  3.2387e-02,\n",
      "          8.0064e-03,  2.4557e-02,  7.0907e-03, -1.7947e-02, -4.0328e-02,\n",
      "          7.5869e-03, -1.3794e-03,  2.0092e-02, -7.3710e-03,  9.8854e-03,\n",
      "          6.2020e-03, -1.7268e-02,  6.8611e-03,  3.0047e-03, -8.3222e-04,\n",
      "         -2.2968e-02, -6.8240e-03,  7.1957e-03, -1.6183e-02,  4.8197e-02,\n",
      "          1.1067e-01, -1.0468e-03,  3.4770e-02,  3.0625e-03, -4.2172e-02,\n",
      "         -1.5572e-02, -2.2095e-02, -2.3419e-02,  2.4556e-02, -2.5369e-02,\n",
      "          9.7150e-03, -9.1264e-03, -1.6709e-02, -2.3673e-02, -3.3423e-02,\n",
      "          5.0387e-02, -2.4523e-02, -3.1480e-02,  3.9329e-02, -1.4622e-02,\n",
      "         -2.9131e-02, -1.2145e-02,  3.3669e-02, -1.3260e-02, -1.5515e-02,\n",
      "         -1.9110e-02,  1.8636e-02,  1.6256e-02,  1.7225e-03,  2.0666e-02,\n",
      "          9.6417e-04,  2.2979e-02,  5.8229e-03, -1.5756e-02,  5.6823e-03,\n",
      "         -1.9373e-02,  1.5257e-02, -1.9730e-02,  1.4683e-02,  8.8164e-04,\n",
      "         -9.5831e-03,  3.6511e-03, -1.1660e-02,  6.1992e-02,  2.2796e-02,\n",
      "         -1.6285e-02, -1.5714e-02,  2.3768e-02, -3.9135e-03, -5.8296e-03,\n",
      "         -2.0948e-02,  2.0685e-02, -1.2948e-02,  2.6440e-03,  1.3491e-02,\n",
      "          1.6261e-03, -1.8085e-02,  6.6917e-03, -1.4961e-02,  5.2745e-02,\n",
      "          2.8704e-04,  1.2748e-02, -2.7018e-02,  1.1985e-02,  3.9573e-02,\n",
      "         -7.9241e-03,  4.3836e-04, -1.6038e-02, -1.4631e-02,  2.8403e-02,\n",
      "          3.6042e-03, -1.1799e-02,  3.3965e-02, -1.3251e-03,  5.4669e-03,\n",
      "          2.7850e-02, -4.8337e-03, -3.3918e-02,  3.5579e-02, -1.6659e-02,\n",
      "          6.0312e-03,  6.7167e-03,  1.3048e-02,  1.4759e-03, -2.3685e-02,\n",
      "          4.1849e-03,  8.0438e-03,  1.1732e-02, -2.3927e-02,  7.6620e-03,\n",
      "          1.5875e-02,  5.3379e-02, -3.1234e-03, -2.0554e-02,  2.1666e-02,\n",
      "          2.7088e-02,  2.3989e-02, -4.6187e-03,  1.0283e-02, -7.3151e-03,\n",
      "          9.5871e-03,  3.2241e-04, -7.8204e-03,  1.2876e-02, -9.9567e-03,\n",
      "         -6.8426e-03,  1.4565e-02, -3.3296e-02, -1.1527e-02,  2.5258e-02,\n",
      "         -6.7153e-03,  4.0988e-02, -1.8495e-02, -1.4519e-03,  7.1521e-03,\n",
      "         -6.9562e-03,  1.6514e-02,  1.9215e-02,  2.7078e-03,  1.8564e-02,\n",
      "          2.0059e-02,  1.0357e-02,  8.3746e-01,  1.7859e-02,  1.6205e-02,\n",
      "          6.2122e-03,  1.5454e-02,  4.7264e-03,  2.8170e-03,  2.8571e-02,\n",
      "         -1.7519e-02,  1.9444e-03,  3.9055e-02,  3.3213e-02,  1.4218e-02,\n",
      "         -1.9139e-04, -7.5280e-03, -1.5331e-02, -1.2776e-02, -5.7931e-02,\n",
      "         -4.5510e-02, -3.6049e-02,  5.5922e-03, -4.2403e-02, -1.2516e-02,\n",
      "          3.2238e-02,  9.5289e-03,  4.8691e-02, -1.8092e-02, -2.2616e-02,\n",
      "         -3.6800e-02,  3.1058e-02,  4.5579e-03, -1.3579e-03, -2.2933e-02,\n",
      "         -1.7162e-03,  1.5610e-03, -1.4997e-02, -3.8080e-02,  3.6533e-03,\n",
      "         -8.8270e-03, -2.0245e-02,  1.0879e-02, -1.5252e-02,  4.2000e-03,\n",
      "          6.1507e-03,  1.2196e-02,  1.2107e-02, -1.3707e-02, -3.9585e-03,\n",
      "         -1.3973e-02,  2.0879e-02, -3.4534e-02,  2.2570e-02,  3.5415e-02,\n",
      "         -1.3614e-03, -1.0059e-02,  1.8967e-02, -1.8270e-02,  2.2308e-02,\n",
      "         -1.7725e-02,  9.6769e-03,  1.3463e-02,  1.5884e-02, -4.7187e-03,\n",
      "         -2.3280e-02,  2.5155e-02,  2.2132e-02, -1.0724e-02,  1.5647e-02,\n",
      "         -1.0359e-02,  1.3318e-03,  4.3688e-02,  5.5415e-03, -4.0521e-03,\n",
      "          2.4795e-02, -8.1099e-03,  4.1610e-02,  4.4543e-03,  8.5612e-03,\n",
      "          1.5681e-02, -2.5289e-03,  1.7378e-01, -9.4852e-03,  6.5114e-03,\n",
      "          1.8732e-02,  1.1490e-02, -6.3170e-03,  1.9889e-02,  1.6524e-02,\n",
      "         -2.8090e-02,  4.1290e-03,  1.8582e-02, -7.5772e-04,  1.6989e-03,\n",
      "          8.6211e-03,  2.2724e-02, -3.7455e-02,  4.1166e-03,  1.3329e-03,\n",
      "          4.0440e-02,  2.7992e-02, -1.4836e-02, -2.8763e-02,  1.8583e-03,\n",
      "         -2.3668e-02, -1.8751e-03, -1.7776e-02, -6.6554e-03,  1.7928e-02,\n",
      "         -2.7223e-03, -1.0975e-02, -7.2066e-03,  1.9558e-02,  1.7234e-02,\n",
      "          3.1313e-02, -1.9932e-02,  8.8840e-03,  2.3639e-02, -2.3826e-02,\n",
      "          6.0691e-03,  1.5963e-02, -8.4558e-03, -1.3874e-03,  1.8025e-02,\n",
      "          5.4656e-03,  1.3942e-02, -1.5286e-02,  3.0218e-02, -2.1733e-02,\n",
      "          3.3510e-02,  4.6309e-02, -1.3796e-02,  1.2517e-02, -2.7659e-02,\n",
      "         -1.5005e-02, -2.4772e-03, -9.4626e-03,  1.0941e-02,  3.3017e-03,\n",
      "         -3.2029e-02,  1.4156e-02,  1.7746e-02,  2.4916e-03,  2.1698e-02,\n",
      "          5.1726e-03,  7.2195e-03,  1.2526e-02,  8.5281e-03, -5.5046e-03,\n",
      "          3.7066e-03,  3.4063e-02]], grad_fn=<DivBackward0>)\n"
     ]
    }
   ],
   "source": [
    "print(image_embedding)\n",
    "print(text_embedding)"
   ]
  },
  {
   "cell_type": "code",
   "execution_count": 20,
   "id": "12f2a89a",
   "metadata": {},
   "outputs": [
    {
     "name": "stdout",
     "output_type": "stream",
     "text": [
      "tensor([1.0000], grad_fn=<SumBackward1>)\n"
     ]
    }
   ],
   "source": [
    "from torch import cosine_similarity\n",
    "cosine_similarity = cosine_similarity(image_embedding,text_embedding)\n",
    "print(cosine_similarity)"
   ]
  },
  {
   "cell_type": "markdown",
   "id": "d0c7788c",
   "metadata": {},
   "source": [
    "##### We can see the cosine similarity score which is one, that means the image and captions are really matched."
   ]
  },
  {
   "cell_type": "code",
   "execution_count": null,
   "id": "b97b703a",
   "metadata": {},
   "outputs": [],
   "source": []
  }
 ],
 "metadata": {
  "kernelspec": {
   "display_name": "Python 3 (ipykernel)",
   "language": "python",
   "name": "python3"
  },
  "language_info": {
   "codemirror_mode": {
    "name": "ipython",
    "version": 3
   },
   "file_extension": ".py",
   "mimetype": "text/x-python",
   "name": "python",
   "nbconvert_exporter": "python",
   "pygments_lexer": "ipython3",
   "version": "3.10.9"
  }
 },
 "nbformat": 4,
 "nbformat_minor": 5
}
